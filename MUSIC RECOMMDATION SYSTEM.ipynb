{
 "cells": [
  {
   "cell_type": "code",
   "execution_count": 13,
   "id": "19bcf5da-955b-4cb0-aa82-00495f9879e7",
   "metadata": {},
   "outputs": [],
   "source": [
    "import pandas as pd\n",
    "import numpy as np\n",
    "from sklearn.model_selection import train_test_split\n",
    "from sklearn.ensemble import RandomForestClassifier\n",
    "from sklearn.metrics import classification_report\n",
    "from sklearn.preprocessing import LabelEncoder"
   ]
  },
  {
   "cell_type": "code",
   "execution_count": 14,
   "id": "4f733bde-1b8b-4894-a710-9ebaadb5c841",
   "metadata": {},
   "outputs": [],
   "source": [
    "# Load data\n",
    "df = pd.read_csv('high_popularity_spotify_data.csv')"
   ]
  },
  {
   "cell_type": "code",
   "execution_count": 15,
   "id": "5d07a135-2edf-46cc-b3fb-57810394fd26",
   "metadata": {},
   "outputs": [],
   "source": [
    "# Simulate target: Randomly generate repeat_play (1 if repeated in a month, else 0)\n",
    "np.random.seed(42)\n",
    "df['repeat_play'] = np.random.choice([0, 1], size=len(df), p=[0.7, 0.3])\n"
   ]
  },
  {
   "cell_type": "code",
   "execution_count": 16,
   "id": "cc97c932-5f9b-43ce-a2cc-b3d4fc038776",
   "metadata": {},
   "outputs": [],
   "source": [
    "# Select features (excluding text and non-numeric ones)\n",
    "features = ['energy', 'tempo', 'danceability', 'loudness', 'liveness',\n",
    "            'valence', 'speechiness', 'instrumentalness', 'duration_ms', 'acousticness']"
   ]
  },
  {
   "cell_type": "code",
   "execution_count": 17,
   "id": "a67a63af-fe6e-4252-87a7-7263348ac9ba",
   "metadata": {},
   "outputs": [],
   "source": [
    "# Encode categorical genre if needed\n",
    "if 'playlist_genre' in df.columns:\n",
    "    le = LabelEncoder()\n",
    "    df['genre_encoded'] = le.fit_transform(df['playlist_genre'])\n",
    "    features.append('genre_encoded')"
   ]
  },
  {
   "cell_type": "code",
   "execution_count": 18,
   "id": "62dfbddb-4d5d-4769-ab3a-d6312a20a775",
   "metadata": {},
   "outputs": [],
   "source": [
    "# Split data\n",
    "X = df[features]\n",
    "y = df['repeat_play']\n",
    "X_train, X_test, y_train, y_test = train_test_split(X, y, test_size=0.2, random_state=42)\n"
   ]
  },
  {
   "cell_type": "code",
   "execution_count": 19,
   "id": "ab52659f-b7dc-4813-bea2-d1d06fc109c2",
   "metadata": {},
   "outputs": [
    {
     "data": {
      "text/html": [
       "<style>#sk-container-id-1 {color: black;}#sk-container-id-1 pre{padding: 0;}#sk-container-id-1 div.sk-toggleable {background-color: white;}#sk-container-id-1 label.sk-toggleable__label {cursor: pointer;display: block;width: 100%;margin-bottom: 0;padding: 0.3em;box-sizing: border-box;text-align: center;}#sk-container-id-1 label.sk-toggleable__label-arrow:before {content: \"▸\";float: left;margin-right: 0.25em;color: #696969;}#sk-container-id-1 label.sk-toggleable__label-arrow:hover:before {color: black;}#sk-container-id-1 div.sk-estimator:hover label.sk-toggleable__label-arrow:before {color: black;}#sk-container-id-1 div.sk-toggleable__content {max-height: 0;max-width: 0;overflow: hidden;text-align: left;background-color: #f0f8ff;}#sk-container-id-1 div.sk-toggleable__content pre {margin: 0.2em;color: black;border-radius: 0.25em;background-color: #f0f8ff;}#sk-container-id-1 input.sk-toggleable__control:checked~div.sk-toggleable__content {max-height: 200px;max-width: 100%;overflow: auto;}#sk-container-id-1 input.sk-toggleable__control:checked~label.sk-toggleable__label-arrow:before {content: \"▾\";}#sk-container-id-1 div.sk-estimator input.sk-toggleable__control:checked~label.sk-toggleable__label {background-color: #d4ebff;}#sk-container-id-1 div.sk-label input.sk-toggleable__control:checked~label.sk-toggleable__label {background-color: #d4ebff;}#sk-container-id-1 input.sk-hidden--visually {border: 0;clip: rect(1px 1px 1px 1px);clip: rect(1px, 1px, 1px, 1px);height: 1px;margin: -1px;overflow: hidden;padding: 0;position: absolute;width: 1px;}#sk-container-id-1 div.sk-estimator {font-family: monospace;background-color: #f0f8ff;border: 1px dotted black;border-radius: 0.25em;box-sizing: border-box;margin-bottom: 0.5em;}#sk-container-id-1 div.sk-estimator:hover {background-color: #d4ebff;}#sk-container-id-1 div.sk-parallel-item::after {content: \"\";width: 100%;border-bottom: 1px solid gray;flex-grow: 1;}#sk-container-id-1 div.sk-label:hover label.sk-toggleable__label {background-color: #d4ebff;}#sk-container-id-1 div.sk-serial::before {content: \"\";position: absolute;border-left: 1px solid gray;box-sizing: border-box;top: 0;bottom: 0;left: 50%;z-index: 0;}#sk-container-id-1 div.sk-serial {display: flex;flex-direction: column;align-items: center;background-color: white;padding-right: 0.2em;padding-left: 0.2em;position: relative;}#sk-container-id-1 div.sk-item {position: relative;z-index: 1;}#sk-container-id-1 div.sk-parallel {display: flex;align-items: stretch;justify-content: center;background-color: white;position: relative;}#sk-container-id-1 div.sk-item::before, #sk-container-id-1 div.sk-parallel-item::before {content: \"\";position: absolute;border-left: 1px solid gray;box-sizing: border-box;top: 0;bottom: 0;left: 50%;z-index: -1;}#sk-container-id-1 div.sk-parallel-item {display: flex;flex-direction: column;z-index: 1;position: relative;background-color: white;}#sk-container-id-1 div.sk-parallel-item:first-child::after {align-self: flex-end;width: 50%;}#sk-container-id-1 div.sk-parallel-item:last-child::after {align-self: flex-start;width: 50%;}#sk-container-id-1 div.sk-parallel-item:only-child::after {width: 0;}#sk-container-id-1 div.sk-dashed-wrapped {border: 1px dashed gray;margin: 0 0.4em 0.5em 0.4em;box-sizing: border-box;padding-bottom: 0.4em;background-color: white;}#sk-container-id-1 div.sk-label label {font-family: monospace;font-weight: bold;display: inline-block;line-height: 1.2em;}#sk-container-id-1 div.sk-label-container {text-align: center;}#sk-container-id-1 div.sk-container {/* jupyter's `normalize.less` sets `[hidden] { display: none; }` but bootstrap.min.css set `[hidden] { display: none !important; }` so we also need the `!important` here to be able to override the default hidden behavior on the sphinx rendered scikit-learn.org. See: https://github.com/scikit-learn/scikit-learn/issues/21755 */display: inline-block !important;position: relative;}#sk-container-id-1 div.sk-text-repr-fallback {display: none;}</style><div id=\"sk-container-id-1\" class=\"sk-top-container\"><div class=\"sk-text-repr-fallback\"><pre>RandomForestClassifier(random_state=42)</pre><b>In a Jupyter environment, please rerun this cell to show the HTML representation or trust the notebook. <br />On GitHub, the HTML representation is unable to render, please try loading this page with nbviewer.org.</b></div><div class=\"sk-container\" hidden><div class=\"sk-item\"><div class=\"sk-estimator sk-toggleable\"><input class=\"sk-toggleable__control sk-hidden--visually\" id=\"sk-estimator-id-1\" type=\"checkbox\" checked><label for=\"sk-estimator-id-1\" class=\"sk-toggleable__label sk-toggleable__label-arrow\">RandomForestClassifier</label><div class=\"sk-toggleable__content\"><pre>RandomForestClassifier(random_state=42)</pre></div></div></div></div></div>"
      ],
      "text/plain": [
       "RandomForestClassifier(random_state=42)"
      ]
     },
     "execution_count": 19,
     "metadata": {},
     "output_type": "execute_result"
    }
   ],
   "source": [
    "# Train model\n",
    "clf = RandomForestClassifier(n_estimators=100, random_state=42)\n",
    "clf.fit(X_train, y_train)"
   ]
  },
  {
   "cell_type": "code",
   "execution_count": 20,
   "id": "02c67f0d-5103-4247-bb26-e46d543f79bf",
   "metadata": {},
   "outputs": [
    {
     "name": "stdout",
     "output_type": "stream",
     "text": [
      "              precision    recall  f1-score   support\n",
      "\n",
      "           0       0.68      0.89      0.77       228\n",
      "           1       0.36      0.13      0.19       110\n",
      "\n",
      "    accuracy                           0.64       338\n",
      "   macro avg       0.52      0.51      0.48       338\n",
      "weighted avg       0.57      0.64      0.58       338\n",
      "\n"
     ]
    }
   ],
   "source": [
    "# Predict and evaluate\n",
    "y_pred = clf.predict(X_test)\n",
    "print(classification_report(y_test, y_pred))\n"
   ]
  },
  {
   "cell_type": "code",
   "execution_count": 21,
   "id": "5bb8ef81-fbd9-4b05-aee1-5bfcb793d669",
   "metadata": {},
   "outputs": [
    {
     "name": "stdout",
     "output_type": "stream",
     "text": [
      "Top 10 Recommended Songs:\n",
      "                           id             track_artist  repeat_prob\n",
      "1065  48UPSzbZjgc449aqz8bxox    Red Hot Chili Peppers     0.947500\n",
      "52    48UPSzbZjgc449aqz8bxox    Red Hot Chili Peppers     0.947500\n",
      "445   3vv9phIu6Y1vX3jcqaGz5Z  The Chainsmokers, ROZES     0.940000\n",
      "715   6Qyc6fS4DsZjB2mRW9DsQs        The Goo Goo Dolls     0.940000\n",
      "810   6Qyc6fS4DsZjB2mRW9DsQs        The Goo Goo Dolls     0.940000\n",
      "1311  3vv9phIu6Y1vX3jcqaGz5Z  The Chainsmokers, ROZES     0.940000\n",
      "1060  60a0Rd6pjrkxjPbaKzXjfq              Linkin Park     0.936667\n",
      "678   6dOtVTDdiauQNBQEDOtlAB            Billie Eilish     0.920000\n",
      "1     6dOtVTDdiauQNBQEDOtlAB            Billie Eilish     0.920000\n",
      "1669  2PYlRGF5Wi5sDobsLH5gLX   Tiakola, Ryflo, Oskoow     0.920000\n"
     ]
    }
   ],
   "source": [
    "# Recommend top songs by predicted repeat_play probability\n",
    "df['repeat_prob'] = clf.predict_proba(X)[:, 1]\n",
    "recommended_songs = df.sort_values(by='repeat_prob', ascending=False)[['id', 'track_artist', 'repeat_prob']].head(10)\n",
    "print(\"Top 10 Recommended Songs:\\n\", recommended_songs)\n"
   ]
  },
  {
   "cell_type": "code",
   "execution_count": null,
   "id": "b99c0242-061b-429a-8a17-197fb412a251",
   "metadata": {},
   "outputs": [],
   "source": []
  }
 ],
 "metadata": {
  "kernelspec": {
   "display_name": "Python 3 (ipykernel)",
   "language": "python",
   "name": "python3"
  },
  "language_info": {
   "codemirror_mode": {
    "name": "ipython",
    "version": 3
   },
   "file_extension": ".py",
   "mimetype": "text/x-python",
   "name": "python",
   "nbconvert_exporter": "python",
   "pygments_lexer": "ipython3",
   "version": "3.11.4"
  }
 },
 "nbformat": 4,
 "nbformat_minor": 5
}
